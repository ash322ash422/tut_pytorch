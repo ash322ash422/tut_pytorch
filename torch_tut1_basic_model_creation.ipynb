{
 "cells": [
  {
   "cell_type": "markdown",
   "id": "9f835104-c6fe-4d80-9e4e-4ff38914618e",
   "metadata": {},
   "source": [
    "# Pytorch\n",
    "- This notebook used torch==2.5.1 torchvision==0.20.1\n",
    "- PyTorch is an open-source deep learning framework developed by Facebook. \n",
    "- It provides a flexible and efficient way to work with tensors and build neural networks.\n",
    "- PyTorch is widely used for tasks like computer vision, natural language processing, and reinforcement learning due to its dynamic computation graph and ease of debugging.\n",
    "\n",
    "## PyTorch Basics: Tensors\n",
    "Tensors are the basic building blocks in PyTorch, similar to NumPy arrays, but they also support GPU acceleration.\n",
    "\n",
    "Example: Creating and manipulating tensors"
   ]
  },
  {
   "cell_type": "code",
   "execution_count": 2,
   "id": "75aa97a2-f977-4ea0-a2da-31566408c108",
   "metadata": {},
   "outputs": [
    {
     "name": "stdout",
     "output_type": "stream",
     "text": [
      "Tensor x:\n",
      " tensor([[1., 2.],\n",
      "        [3., 4.]])\n",
      "\n",
      "Tensor y (x + 5):\n",
      " tensor([[6., 7.],\n",
      "        [8., 9.]])\n",
      "\n",
      "Tensor z (x * y):\n",
      " tensor([[ 6., 14.],\n",
      "        [24., 36.]])\n"
     ]
    }
   ],
   "source": [
    "import torch\n",
    "\n",
    "# Create a tensor\n",
    "x = torch.tensor([[1, 2], [3, 4]], dtype=torch.float32)\n",
    "print(\"Tensor x:\\n\", x)\n",
    "\n",
    "# Perform operations\n",
    "y = x + 5\n",
    "print(\"\\nTensor y  (x + 5):\\n\", y)\n",
    "\n",
    "# Element-wise multiplication\n",
    "z = x * y\n",
    "print(\"\\nTensor z (x * y):\\n\", z)\n",
    "\n",
    "# Check GPU availability\n",
    "if torch.cuda.is_available():\n",
    "    x = x.to('cuda')  # Move tensor to GPU\n",
    "    print(\"\\nTensor x moved to GPU\")\n"
   ]
  },
  {
   "cell_type": "markdown",
   "id": "cc2e0d2d-b88b-4b0c-86c9-6072ab2a3b9c",
   "metadata": {},
   "source": [
    "##  PyTorch for Linear Regression\n",
    "PyTorch is often used to build and train models. Here's an example of linear regression.\n",
    "\n",
    "Example: Simple Linear Regression"
   ]
  },
  {
   "cell_type": "code",
   "execution_count": 5,
   "id": "65628481-7487-49e6-a6e9-6eb8972ca85e",
   "metadata": {},
   "outputs": [
    {
     "name": "stdout",
     "output_type": "stream",
     "text": [
      "Epoch 20, Loss: 0.4353\n",
      "Epoch 40, Loss: 0.3556\n",
      "Epoch 60, Loss: 0.3154\n",
      "Epoch 80, Loss: 0.2797\n",
      "Epoch 100, Loss: 0.2481\n",
      "\n",
      "Learned parameters:\n",
      "Weight: 1.5866695642471313\n",
      "Bias: 1.21524178981781\n",
      "\n",
      "Predictions for dummy data:\n",
      "Input: 5.0, Predicted Output: 9.15\n",
      "Input: 6.0, Predicted Output: 10.74\n",
      "Input: 7.0, Predicted Output: 12.32\n"
     ]
    }
   ],
   "source": [
    "import torch\n",
    "import torch.nn as nn\n",
    "\n",
    "# Generate dummy data\n",
    "X = torch.tensor([[1.0], [2.0], [3.0], [4.0]])\n",
    "y = torch.tensor([[2.0], [4.0], [6.0], [8.0]])\n",
    "\n",
    "# Define a simple linear regression model\n",
    "model = nn.Linear(1, 1)  # One input feature, one output feature\n",
    "\n",
    "# Define a loss function and optimizer\n",
    "criterion = nn.MSELoss()  # Mean Squared Error\n",
    "optimizer = torch.optim.SGD(model.parameters(), lr=0.01)\n",
    "\n",
    "# Training loop\n",
    "for epoch in range(100):\n",
    "    # Forward pass\n",
    "    predictions = model(X)\n",
    "    loss = criterion(predictions, y)\n",
    "    \n",
    "    # Backward pass\n",
    "    optimizer.zero_grad()\n",
    "    loss.backward()\n",
    "    optimizer.step()\n",
    "\n",
    "    if (epoch + 1) % 20 == 0:\n",
    "        print(f'Epoch {epoch + 1}, Loss: {loss.item():.4f}')\n",
    "\n",
    "# Print the learned weights and bias\n",
    "print(\"\\nLearned parameters:\")\n",
    "print(\"Weight:\", model.weight.item())\n",
    "print(\"Bias:\", model.bias.item())\n",
    "\n",
    "# Dummy data for predictions\n",
    "dummy_data = torch.tensor([[5.0], [6.0], [7.0]])  # Example: Predict for 5, 6, 7\n",
    "predictions = model(dummy_data)\n",
    "\n",
    "print(\"\\nPredictions for dummy data:\")\n",
    "for i, value in enumerate(dummy_data):\n",
    "    print(f\"Input: {value.item()}, Predicted Output: {predictions[i].item():.2f}\")"
   ]
  },
  {
   "cell_type": "markdown",
   "id": "348866be-5a34-47c4-bdc6-e39deaaf7b12",
   "metadata": {},
   "source": [
    "## PyTorch for Image Classification\n",
    "PyTorch is widely used in computer vision. Here's an example of a basic classification model using PyTorch.\n",
    "\n",
    "Example: Image classification using a simple neural network"
   ]
  },
  {
   "cell_type": "code",
   "execution_count": 7,
   "id": "84576f6e-8749-43ce-8b26-4af58a609b5c",
   "metadata": {},
   "outputs": [
    {
     "name": "stdout",
     "output_type": "stream",
     "text": [
      "Downloading http://yann.lecun.com/exdb/mnist/train-images-idx3-ubyte.gz\n",
      "Failed to download (trying next):\n",
      "<urlopen error [WinError 10061] No connection could be made because the target machine actively refused it>\n",
      "\n",
      "Downloading https://ossci-datasets.s3.amazonaws.com/mnist/train-images-idx3-ubyte.gz\n",
      "Downloading https://ossci-datasets.s3.amazonaws.com/mnist/train-images-idx3-ubyte.gz to ./data\\MNIST\\raw\\train-images-idx3-ubyte.gz\n"
     ]
    },
    {
     "name": "stderr",
     "output_type": "stream",
     "text": [
      "100.0%\n"
     ]
    },
    {
     "name": "stdout",
     "output_type": "stream",
     "text": [
      "Extracting ./data\\MNIST\\raw\\train-images-idx3-ubyte.gz to ./data\\MNIST\\raw\n",
      "\n",
      "Downloading http://yann.lecun.com/exdb/mnist/train-labels-idx1-ubyte.gz\n",
      "Failed to download (trying next):\n",
      "<urlopen error [WinError 10061] No connection could be made because the target machine actively refused it>\n",
      "\n",
      "Downloading https://ossci-datasets.s3.amazonaws.com/mnist/train-labels-idx1-ubyte.gz\n",
      "Downloading https://ossci-datasets.s3.amazonaws.com/mnist/train-labels-idx1-ubyte.gz to ./data\\MNIST\\raw\\train-labels-idx1-ubyte.gz\n"
     ]
    },
    {
     "name": "stderr",
     "output_type": "stream",
     "text": [
      "100.0%\n"
     ]
    },
    {
     "name": "stdout",
     "output_type": "stream",
     "text": [
      "Extracting ./data\\MNIST\\raw\\train-labels-idx1-ubyte.gz to ./data\\MNIST\\raw\n",
      "\n",
      "Downloading http://yann.lecun.com/exdb/mnist/t10k-images-idx3-ubyte.gz\n",
      "Failed to download (trying next):\n",
      "<urlopen error [WinError 10061] No connection could be made because the target machine actively refused it>\n",
      "\n",
      "Downloading https://ossci-datasets.s3.amazonaws.com/mnist/t10k-images-idx3-ubyte.gz\n",
      "Downloading https://ossci-datasets.s3.amazonaws.com/mnist/t10k-images-idx3-ubyte.gz to ./data\\MNIST\\raw\\t10k-images-idx3-ubyte.gz\n"
     ]
    },
    {
     "name": "stderr",
     "output_type": "stream",
     "text": [
      "100.0%\n"
     ]
    },
    {
     "name": "stdout",
     "output_type": "stream",
     "text": [
      "Extracting ./data\\MNIST\\raw\\t10k-images-idx3-ubyte.gz to ./data\\MNIST\\raw\n",
      "\n",
      "Downloading http://yann.lecun.com/exdb/mnist/t10k-labels-idx1-ubyte.gz\n",
      "Failed to download (trying next):\n",
      "<urlopen error [WinError 10061] No connection could be made because the target machine actively refused it>\n",
      "\n",
      "Downloading https://ossci-datasets.s3.amazonaws.com/mnist/t10k-labels-idx1-ubyte.gz\n",
      "Downloading https://ossci-datasets.s3.amazonaws.com/mnist/t10k-labels-idx1-ubyte.gz to ./data\\MNIST\\raw\\t10k-labels-idx1-ubyte.gz\n"
     ]
    },
    {
     "name": "stderr",
     "output_type": "stream",
     "text": [
      "100.0%\n"
     ]
    },
    {
     "name": "stdout",
     "output_type": "stream",
     "text": [
      "Extracting ./data\\MNIST\\raw\\t10k-labels-idx1-ubyte.gz to ./data\\MNIST\\raw\n",
      "\n",
      "Epoch 1, Mini-batch 100, Loss: 2.210\n",
      "Epoch 1, Mini-batch 200, Loss: 1.899\n",
      "Epoch 1, Mini-batch 300, Loss: 1.372\n",
      "Epoch 1, Mini-batch 400, Loss: 0.928\n",
      "Epoch 1, Mini-batch 500, Loss: 0.698\n",
      "Epoch 1, Mini-batch 600, Loss: 0.604\n",
      "Epoch 1, Mini-batch 700, Loss: 0.532\n",
      "Epoch 1, Mini-batch 800, Loss: 0.508\n",
      "Epoch 1, Mini-batch 900, Loss: 0.462\n",
      "Epoch 2, Mini-batch 100, Loss: 0.424\n",
      "Epoch 2, Mini-batch 200, Loss: 0.397\n",
      "Epoch 2, Mini-batch 300, Loss: 0.391\n",
      "Epoch 2, Mini-batch 400, Loss: 0.391\n",
      "Epoch 2, Mini-batch 500, Loss: 0.379\n",
      "Epoch 2, Mini-batch 600, Loss: 0.372\n",
      "Epoch 2, Mini-batch 700, Loss: 0.357\n",
      "Epoch 2, Mini-batch 800, Loss: 0.362\n",
      "Epoch 2, Mini-batch 900, Loss: 0.338\n",
      "Epoch 3, Mini-batch 100, Loss: 0.332\n",
      "Epoch 3, Mini-batch 200, Loss: 0.346\n",
      "Epoch 3, Mini-batch 300, Loss: 0.324\n",
      "Epoch 3, Mini-batch 400, Loss: 0.318\n",
      "Epoch 3, Mini-batch 500, Loss: 0.314\n",
      "Epoch 3, Mini-batch 600, Loss: 0.316\n",
      "Epoch 3, Mini-batch 700, Loss: 0.310\n",
      "Epoch 3, Mini-batch 800, Loss: 0.304\n",
      "Epoch 3, Mini-batch 900, Loss: 0.322\n",
      "Epoch 4, Mini-batch 100, Loss: 0.314\n",
      "Epoch 4, Mini-batch 200, Loss: 0.287\n",
      "Epoch 4, Mini-batch 300, Loss: 0.297\n",
      "Epoch 4, Mini-batch 400, Loss: 0.295\n",
      "Epoch 4, Mini-batch 500, Loss: 0.297\n",
      "Epoch 4, Mini-batch 600, Loss: 0.293\n",
      "Epoch 4, Mini-batch 700, Loss: 0.300\n",
      "Epoch 4, Mini-batch 800, Loss: 0.283\n",
      "Epoch 4, Mini-batch 900, Loss: 0.273\n",
      "Epoch 5, Mini-batch 100, Loss: 0.258\n",
      "Epoch 5, Mini-batch 200, Loss: 0.266\n",
      "Epoch 5, Mini-batch 300, Loss: 0.257\n",
      "Epoch 5, Mini-batch 400, Loss: 0.287\n",
      "Epoch 5, Mini-batch 500, Loss: 0.263\n",
      "Epoch 5, Mini-batch 600, Loss: 0.262\n",
      "Epoch 5, Mini-batch 700, Loss: 0.281\n",
      "Epoch 5, Mini-batch 800, Loss: 0.282\n",
      "Epoch 5, Mini-batch 900, Loss: 0.267\n",
      "\n",
      "Predictions for the first 6 samples:\n",
      "Image 1: True Label: 2, Predicted: 2\n",
      "Image 2: True Label: 5, Predicted: 5\n",
      "Image 3: True Label: 8, Predicted: 8\n",
      "Image 4: True Label: 0, Predicted: 0\n",
      "Image 5: True Label: 0, Predicted: 6\n",
      "Image 6: True Label: 6, Predicted: 6\n"
     ]
    },
    {
     "data": {
      "image/png": "[encoded data removed]",
      "text/plain": [
       "<Figure size 1200x200 with 6 Axes>"
      ]
     },
     "metadata": {},
     "output_type": "display_data"
    }
   ],
   "source": [
    "import torch\n",
    "import torch.nn as nn\n",
    "import torch.optim as optim\n",
    "import torchvision # install torchvision==0.20.1\n",
    "import torchvision.transforms as transforms\n",
    "from torch.utils.data import DataLoader\n",
    "import matplotlib.pyplot as plt\n",
    "\n",
    "# Load MNIST dataset (training data)\n",
    "transform = transforms.Compose([transforms.ToTensor(), transforms.Normalize((0.5,), (0.5,))])\n",
    "\n",
    "trainset = torchvision.datasets.MNIST(root='./data', train=True, download=True, transform=transform)\n",
    "trainloader = DataLoader(trainset, batch_size=64, shuffle=True)\n",
    "\n",
    "# Define a simple neural network for image classification\n",
    "class SimpleNN(nn.Module):\n",
    "    def __init__(self):\n",
    "        super(SimpleNN, self).__init__()\n",
    "        self.fc1 = nn.Linear(28*28, 128)  # Input size is 28x28 pixels (flattened)\n",
    "        self.fc2 = nn.Linear(128, 64)\n",
    "        self.fc3 = nn.Linear(64, 10)  # Output 10 classes (digits 0-9)\n",
    "\n",
    "    def forward(self, x):\n",
    "        x = x.view(-1, 28*28)  # Flatten the image\n",
    "        x = torch.relu(self.fc1(x))\n",
    "        x = torch.relu(self.fc2(x))\n",
    "        x = self.fc3(x)\n",
    "        return x\n",
    "\n",
    "# Initialize the model, loss function, and optimizer\n",
    "model = SimpleNN()\n",
    "criterion = nn.CrossEntropyLoss()\n",
    "optimizer = optim.SGD(model.parameters(), lr=0.01)\n",
    "\n",
    "# Training loop (simplified)\n",
    "epochs = 5\n",
    "for epoch in range(epochs):\n",
    "    running_loss = 0.0\n",
    "    for i, (inputs, labels) in enumerate(trainloader):\n",
    "        optimizer.zero_grad()\n",
    "        outputs = model(inputs)\n",
    "        loss = criterion(outputs, labels)\n",
    "        loss.backward()\n",
    "        optimizer.step()\n",
    "\n",
    "        running_loss += loss.item()\n",
    "        if i % 100 == 99:  # Print every 100 mini-batches\n",
    "            print(f\"Epoch {epoch+1}, Mini-batch {i+1}, Loss: {running_loss / 100:.3f}\")\n",
    "            running_loss = 0.0\n",
    "\n",
    "# Now make predictions on the first 6 samples in the training set\n",
    "model.eval()  # Set the model to evaluation mode (disables dropout, batchnorm)\n",
    "with torch.no_grad():\n",
    "    # Get the first 6 samples\n",
    "    images, labels = next(iter(trainloader))\n",
    "    images = images[:6]\n",
    "    labels = labels[:6]\n",
    "\n",
    "    # Make predictions\n",
    "    outputs = model(images)\n",
    "    _, predicted = torch.max(outputs, 1)\n",
    "\n",
    "    # Print predictions\n",
    "    print(\"\\nPredictions for the first 6 samples:\")\n",
    "    for i in range(6):\n",
    "        print(f\"Image {i+1}: True Label: {labels[i].item()}, Predicted: {predicted[i].item()}\")\n",
    "\n",
    "    # Plot the first 6 images with their predicted labels\n",
    "    fig, axes = plt.subplots(1, 6, figsize=(12, 2))\n",
    "    for i in range(6):\n",
    "        ax = axes[i]\n",
    "        ax.imshow(images[i].squeeze(), cmap='gray')\n",
    "        ax.set_title(f\"Pred: {predicted[i].item()}\")\n",
    "        ax.axis('off')\n",
    "    plt.show()\n"
   ]
  },
  {
   "cell_type": "code",
   "execution_count": null,
   "id": "792fdbbc-d6ce-46ab-9114-1246095f428f",
   "metadata": {},
   "outputs": [],
   "source": []
  }
 ],
 "metadata": {
  "kernelspec": {
   "display_name": "Python 3 (ipykernel)",
   "language": "python",
   "name": "python3"
  },
  "language_info": {
   "codemirror_mode": {
    "name": "ipython",
    "version": 3
   },
   "file_extension": ".py",
   "mimetype": "text/x-python",
   "name": "python",
   "nbconvert_exporter": "python",
   "pygments_lexer": "ipython3",
   "version": "3.11.2"
  }
 },
 "nbformat": 4,
 "nbformat_minor": 5
}
